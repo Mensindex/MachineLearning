{
 "cells": [
  {
   "cell_type": "code",
   "metadata": {
    "ExecuteTime": {
     "end_time": "2025-09-12T16:02:56.252025Z",
     "start_time": "2025-09-12T16:02:56.245415Z"
    }
   },
   "source": [
    "import pandas as pd\n",
    "import numpy as np\n",
    "import matplotlib.pyplot as plt\n",
    "import seaborn as sns\n",
    "\n",
    "import warnings\n",
    "\n",
    "from pandas.core.interchange.dataframe_protocol import DataFrame\n",
    "\n",
    "warnings.filterwarnings('ignore')"
   ],
   "id": "1094c1de19b23f28",
   "outputs": [],
   "execution_count": 76
  },
  {
   "cell_type": "markdown",
   "metadata": {},
   "source": [
    "Мы будем работать с данными агрегатора такси [Sigma Cabs](https://www.kaggle.com/datasets/arashnic/taxi-pricing-with-mobility-analytics). В зависимости от характеристик поездки требуется предсказать один из трех типов повышенного ценообразования: [1, 2, 3]. Таким образом, это поможет компании оптимально мэтчить такси и клиентов. "
   ],
   "id": "f900f885c1ba6f8c"
  },
  {
   "cell_type": "code",
   "metadata": {
    "ExecuteTime": {
     "end_time": "2025-09-12T16:02:56.395371Z",
     "start_time": "2025-09-12T16:02:56.290337Z"
    }
   },
   "source": [
    "df = pd.read_csv('sigma_cabs.csv')\n",
    "df.shape"
   ],
   "id": "178f85477de96150",
   "outputs": [
    {
     "data": {
      "text/plain": [
       "(131662, 14)"
      ]
     },
     "execution_count": 77,
     "metadata": {},
     "output_type": "execute_result"
    }
   ],
   "execution_count": 77
  },
  {
   "cell_type": "code",
   "metadata": {
    "scrolled": true,
    "ExecuteTime": {
     "end_time": "2025-09-12T16:02:56.439675Z",
     "start_time": "2025-09-12T16:02:56.427423Z"
    }
   },
   "source": [
    "# Занесем индекс колонку\n",
    "df = df.set_index('Trip_ID')\n",
    "df.head()"
   ],
   "id": "867b3509b354386b",
   "outputs": [
    {
     "data": {
      "text/plain": [
       "             Trip_Distance Type_of_Cab  Customer_Since_Months  \\\n",
       "Trip_ID                                                         \n",
       "T0005689460           6.77           B                    1.0   \n",
       "T0005689461          29.47           B                   10.0   \n",
       "T0005689464          41.58         NaN                   10.0   \n",
       "T0005689465          61.56           C                   10.0   \n",
       "T0005689467          54.95           C                   10.0   \n",
       "\n",
       "             Life_Style_Index Confidence_Life_Style_Index Destination_Type  \\\n",
       "Trip_ID                                                                      \n",
       "T0005689460           2.42769                           A                A   \n",
       "T0005689461           2.78245                           B                A   \n",
       "T0005689464               NaN                         NaN                E   \n",
       "T0005689465               NaN                         NaN                A   \n",
       "T0005689467           3.03453                           B                A   \n",
       "\n",
       "             Customer_Rating  Cancellation_Last_1Month  Var1  Var2  Var3  \\\n",
       "Trip_ID                                                                    \n",
       "T0005689460          3.90500                         0  40.0    46    60   \n",
       "T0005689461          3.45000                         0  38.0    56    78   \n",
       "T0005689464          3.50125                         2   NaN    56    77   \n",
       "T0005689465          3.45375                         0   NaN    52    74   \n",
       "T0005689467          3.40250                         4  51.0    49   102   \n",
       "\n",
       "             Gender  Surge_Pricing_Type  \n",
       "Trip_ID                                  \n",
       "T0005689460  Female                   2  \n",
       "T0005689461    Male                   2  \n",
       "T0005689464    Male                   2  \n",
       "T0005689465    Male                   3  \n",
       "T0005689467    Male                   2  "
      ],
      "text/html": [
       "<div>\n",
       "<style scoped>\n",
       "    .dataframe tbody tr th:only-of-type {\n",
       "        vertical-align: middle;\n",
       "    }\n",
       "\n",
       "    .dataframe tbody tr th {\n",
       "        vertical-align: top;\n",
       "    }\n",
       "\n",
       "    .dataframe thead th {\n",
       "        text-align: right;\n",
       "    }\n",
       "</style>\n",
       "<table border=\"1\" class=\"dataframe\">\n",
       "  <thead>\n",
       "    <tr style=\"text-align: right;\">\n",
       "      <th></th>\n",
       "      <th>Trip_Distance</th>\n",
       "      <th>Type_of_Cab</th>\n",
       "      <th>Customer_Since_Months</th>\n",
       "      <th>Life_Style_Index</th>\n",
       "      <th>Confidence_Life_Style_Index</th>\n",
       "      <th>Destination_Type</th>\n",
       "      <th>Customer_Rating</th>\n",
       "      <th>Cancellation_Last_1Month</th>\n",
       "      <th>Var1</th>\n",
       "      <th>Var2</th>\n",
       "      <th>Var3</th>\n",
       "      <th>Gender</th>\n",
       "      <th>Surge_Pricing_Type</th>\n",
       "    </tr>\n",
       "    <tr>\n",
       "      <th>Trip_ID</th>\n",
       "      <th></th>\n",
       "      <th></th>\n",
       "      <th></th>\n",
       "      <th></th>\n",
       "      <th></th>\n",
       "      <th></th>\n",
       "      <th></th>\n",
       "      <th></th>\n",
       "      <th></th>\n",
       "      <th></th>\n",
       "      <th></th>\n",
       "      <th></th>\n",
       "      <th></th>\n",
       "    </tr>\n",
       "  </thead>\n",
       "  <tbody>\n",
       "    <tr>\n",
       "      <th>T0005689460</th>\n",
       "      <td>6.77</td>\n",
       "      <td>B</td>\n",
       "      <td>1.0</td>\n",
       "      <td>2.42769</td>\n",
       "      <td>A</td>\n",
       "      <td>A</td>\n",
       "      <td>3.90500</td>\n",
       "      <td>0</td>\n",
       "      <td>40.0</td>\n",
       "      <td>46</td>\n",
       "      <td>60</td>\n",
       "      <td>Female</td>\n",
       "      <td>2</td>\n",
       "    </tr>\n",
       "    <tr>\n",
       "      <th>T0005689461</th>\n",
       "      <td>29.47</td>\n",
       "      <td>B</td>\n",
       "      <td>10.0</td>\n",
       "      <td>2.78245</td>\n",
       "      <td>B</td>\n",
       "      <td>A</td>\n",
       "      <td>3.45000</td>\n",
       "      <td>0</td>\n",
       "      <td>38.0</td>\n",
       "      <td>56</td>\n",
       "      <td>78</td>\n",
       "      <td>Male</td>\n",
       "      <td>2</td>\n",
       "    </tr>\n",
       "    <tr>\n",
       "      <th>T0005689464</th>\n",
       "      <td>41.58</td>\n",
       "      <td>NaN</td>\n",
       "      <td>10.0</td>\n",
       "      <td>NaN</td>\n",
       "      <td>NaN</td>\n",
       "      <td>E</td>\n",
       "      <td>3.50125</td>\n",
       "      <td>2</td>\n",
       "      <td>NaN</td>\n",
       "      <td>56</td>\n",
       "      <td>77</td>\n",
       "      <td>Male</td>\n",
       "      <td>2</td>\n",
       "    </tr>\n",
       "    <tr>\n",
       "      <th>T0005689465</th>\n",
       "      <td>61.56</td>\n",
       "      <td>C</td>\n",
       "      <td>10.0</td>\n",
       "      <td>NaN</td>\n",
       "      <td>NaN</td>\n",
       "      <td>A</td>\n",
       "      <td>3.45375</td>\n",
       "      <td>0</td>\n",
       "      <td>NaN</td>\n",
       "      <td>52</td>\n",
       "      <td>74</td>\n",
       "      <td>Male</td>\n",
       "      <td>3</td>\n",
       "    </tr>\n",
       "    <tr>\n",
       "      <th>T0005689467</th>\n",
       "      <td>54.95</td>\n",
       "      <td>C</td>\n",
       "      <td>10.0</td>\n",
       "      <td>3.03453</td>\n",
       "      <td>B</td>\n",
       "      <td>A</td>\n",
       "      <td>3.40250</td>\n",
       "      <td>4</td>\n",
       "      <td>51.0</td>\n",
       "      <td>49</td>\n",
       "      <td>102</td>\n",
       "      <td>Male</td>\n",
       "      <td>2</td>\n",
       "    </tr>\n",
       "  </tbody>\n",
       "</table>\n",
       "</div>"
      ]
     },
     "execution_count": 78,
     "metadata": {},
     "output_type": "execute_result"
    }
   ],
   "execution_count": 78
  },
  {
   "cell_type": "markdown",
   "metadata": {},
   "source": [
    "Описание признаков:\n",
    "\n",
    "1. **Trip_ID**: ID for TRIP\n",
    "2. **Trip_Distance**: The distance for the trip requested by the customer\n",
    "3. **TypeofCab**: Category of the cab requested by the customer\n",
    "4. **CustomerSinceMonths**: Customer using cab services since n months; 0 month means current month\n",
    "5. **LifeStyleIndex**: Proprietary index created by Sigma Cabs showing lifestyle of the customer based on their behaviour\n",
    "6. **ConfidenceLifeStyle_Index**: Category showing confidence on the index mentioned above\n",
    "7. **Destination_Type**: Sigma Cabs divides any destination in one of the 14 categories.\n",
    "8. **Customer_Rating**: Average of life time ratings of the customer till date\n",
    "9. **CancellationLast1Month**: Number of trips cancelled by the customer in last 1 month\n",
    "10. **Var1**, **Var2** and **Var3**: Continuous variables masked by the company. Can be used for modelling purposes\n",
    "11. **Gender**: Gender of the customer\n",
    "\n",
    "**SurgePricingType**: Target (can be of 3 types)\n"
   ],
   "id": "60dd6a03c6c16d10"
  },
  {
   "cell_type": "markdown",
   "metadata": {},
   "source": [
    "### EDA \n",
    "Заполните пропуски в вещественных признаках медианой, а в категориальных - самым популярным классом. Изобразите марицу корреляций и выведите топ5 пар самых коррелированных признаков.\n",
    "\n",
    "Так как в сумме уникальных значений различных категориальных признаков окажется не супер-много, примените `One-Hot-Encoding` для них. Не забудьте в методе `pd.get_dummies` указать параметр `drop_first=True`."
   ],
   "id": "c10c76913021ebd3"
  },
  {
   "cell_type": "code",
   "metadata": {
    "ExecuteTime": {
     "end_time": "2025-09-12T16:02:56.533637Z",
     "start_time": "2025-09-12T16:02:56.494333Z"
    }
   },
   "source": [
    "### Your code is here\n",
    "numeric_columns = df.select_dtypes(include=[np.number]).columns\n",
    "categorical_columns = df.select_dtypes(include=['object', 'category']).columns\n",
    "\n",
    "print(df.loc[:, numeric_columns].isna().sum())\n",
    "print()\n",
    "print(df.loc[:, categorical_columns].info())"
   ],
   "id": "d69621db68050933",
   "outputs": [
    {
     "name": "stdout",
     "output_type": "stream",
     "text": [
      "Trip_Distance                   0\n",
      "Customer_Since_Months        5920\n",
      "Life_Style_Index            20193\n",
      "Customer_Rating                 0\n",
      "Cancellation_Last_1Month        0\n",
      "Var1                        71030\n",
      "Var2                            0\n",
      "Var3                            0\n",
      "Surge_Pricing_Type              0\n",
      "dtype: int64\n",
      "\n",
      "<class 'pandas.core.frame.DataFrame'>\n",
      "Index: 131662 entries, T0005689460 to T0005908514\n",
      "Data columns (total 4 columns):\n",
      " #   Column                       Non-Null Count   Dtype \n",
      "---  ------                       --------------   ----- \n",
      " 0   Type_of_Cab                  111452 non-null  object\n",
      " 1   Confidence_Life_Style_Index  111469 non-null  object\n",
      " 2   Destination_Type             131662 non-null  object\n",
      " 3   Gender                       131662 non-null  object\n",
      "dtypes: object(4)\n",
      "memory usage: 5.0+ MB\n",
      "None\n"
     ]
    }
   ],
   "execution_count": 79
  },
  {
   "metadata": {
    "ExecuteTime": {
     "end_time": "2025-09-12T16:02:56.607991Z",
     "start_time": "2025-09-12T16:02:56.584217Z"
    }
   },
   "cell_type": "code",
   "source": [
    "for col in numeric_columns:\n",
    "    df[col] = df[col].fillna(df[col].median())\n",
    "\n",
    "df[numeric_columns].isna().sum()"
   ],
   "id": "a29321d04e2918a4",
   "outputs": [
    {
     "data": {
      "text/plain": [
       "Trip_Distance               0\n",
       "Customer_Since_Months       0\n",
       "Life_Style_Index            0\n",
       "Customer_Rating             0\n",
       "Cancellation_Last_1Month    0\n",
       "Var1                        0\n",
       "Var2                        0\n",
       "Var3                        0\n",
       "Surge_Pricing_Type          0\n",
       "dtype: int64"
      ]
     },
     "execution_count": 80,
     "metadata": {},
     "output_type": "execute_result"
    }
   ],
   "execution_count": 80
  },
  {
   "metadata": {
    "ExecuteTime": {
     "end_time": "2025-09-12T16:02:56.734940Z",
     "start_time": "2025-09-12T16:02:56.680697Z"
    }
   },
   "cell_type": "code",
   "source": [
    "for col in categorical_columns:\n",
    "    if df[col].isnull().any():\n",
    "        # Безопасное вычисление моды (игнорируем NaN)\n",
    "        non_null_data = df[col].dropna()\n",
    "\n",
    "        if not non_null_data.empty:\n",
    "            mode_values = non_null_data.mode()\n",
    "            most_frequent = mode_values.iloc[0] if not mode_values.empty else 'Unknown'\n",
    "        else:\n",
    "            most_frequent = 'Unknown'\n",
    "\n",
    "        df[col] = df[col].fillna(most_frequent)\n",
    "\n",
    "df[categorical_columns].isna().sum()"
   ],
   "id": "a75b2672e6202c9a",
   "outputs": [
    {
     "data": {
      "text/plain": [
       "Type_of_Cab                    0\n",
       "Confidence_Life_Style_Index    0\n",
       "Destination_Type               0\n",
       "Gender                         0\n",
       "dtype: int64"
      ]
     },
     "execution_count": 81,
     "metadata": {},
     "output_type": "execute_result"
    }
   ],
   "execution_count": 81
  },
  {
   "metadata": {
    "ExecuteTime": {
     "end_time": "2025-09-12T16:02:56.824915Z",
     "start_time": "2025-09-12T16:02:56.805452Z"
    }
   },
   "cell_type": "code",
   "source": "df[categorical_columns].nunique()",
   "id": "3f0e048592ce2797",
   "outputs": [
    {
     "data": {
      "text/plain": [
       "Type_of_Cab                     5\n",
       "Confidence_Life_Style_Index     3\n",
       "Destination_Type               14\n",
       "Gender                          2\n",
       "dtype: int64"
      ]
     },
     "execution_count": 82,
     "metadata": {},
     "output_type": "execute_result"
    }
   ],
   "execution_count": 82
  },
  {
   "metadata": {
    "ExecuteTime": {
     "end_time": "2025-09-12T16:02:57.014884Z",
     "start_time": "2025-09-12T16:02:56.922601Z"
    }
   },
   "cell_type": "code",
   "source": [
    "for col in categorical_columns:\n",
    "    one_hot = pd.get_dummies(df[col], prefix=col, drop_first=True, dtype=int)\n",
    "    df = pd.concat((df.drop(col, axis=1), one_hot), axis=1)"
   ],
   "id": "d8ce328e0cba8915",
   "outputs": [],
   "execution_count": 83
  },
  {
   "metadata": {
    "ExecuteTime": {
     "end_time": "2025-09-12T16:02:57.089802Z",
     "start_time": "2025-09-12T16:02:57.084010Z"
    }
   },
   "cell_type": "code",
   "source": "df.info()",
   "id": "d8eb315219a11728",
   "outputs": [
    {
     "name": "stdout",
     "output_type": "stream",
     "text": [
      "<class 'pandas.core.frame.DataFrame'>\n",
      "Index: 131662 entries, T0005689460 to T0005908514\n",
      "Data columns (total 29 columns):\n",
      " #   Column                         Non-Null Count   Dtype  \n",
      "---  ------                         --------------   -----  \n",
      " 0   Trip_Distance                  131662 non-null  float64\n",
      " 1   Customer_Since_Months          131662 non-null  float64\n",
      " 2   Life_Style_Index               131662 non-null  float64\n",
      " 3   Customer_Rating                131662 non-null  float64\n",
      " 4   Cancellation_Last_1Month       131662 non-null  int64  \n",
      " 5   Var1                           131662 non-null  float64\n",
      " 6   Var2                           131662 non-null  int64  \n",
      " 7   Var3                           131662 non-null  int64  \n",
      " 8   Surge_Pricing_Type             131662 non-null  int64  \n",
      " 9   Type_of_Cab_B                  131662 non-null  int64  \n",
      " 10  Type_of_Cab_C                  131662 non-null  int64  \n",
      " 11  Type_of_Cab_D                  131662 non-null  int64  \n",
      " 12  Type_of_Cab_E                  131662 non-null  int64  \n",
      " 13  Confidence_Life_Style_Index_B  131662 non-null  int64  \n",
      " 14  Confidence_Life_Style_Index_C  131662 non-null  int64  \n",
      " 15  Destination_Type_B             131662 non-null  int64  \n",
      " 16  Destination_Type_C             131662 non-null  int64  \n",
      " 17  Destination_Type_D             131662 non-null  int64  \n",
      " 18  Destination_Type_E             131662 non-null  int64  \n",
      " 19  Destination_Type_F             131662 non-null  int64  \n",
      " 20  Destination_Type_G             131662 non-null  int64  \n",
      " 21  Destination_Type_H             131662 non-null  int64  \n",
      " 22  Destination_Type_I             131662 non-null  int64  \n",
      " 23  Destination_Type_J             131662 non-null  int64  \n",
      " 24  Destination_Type_K             131662 non-null  int64  \n",
      " 25  Destination_Type_L             131662 non-null  int64  \n",
      " 26  Destination_Type_M             131662 non-null  int64  \n",
      " 27  Destination_Type_N             131662 non-null  int64  \n",
      " 28  Gender_Male                    131662 non-null  int64  \n",
      "dtypes: float64(5), int64(24)\n",
      "memory usage: 34.2+ MB\n"
     ]
    }
   ],
   "execution_count": 84
  },
  {
   "metadata": {
    "ExecuteTime": {
     "end_time": "2025-09-12T16:02:57.265474Z",
     "start_time": "2025-09-12T16:02:57.138691Z"
    }
   },
   "cell_type": "code",
   "source": [
    "import seaborn as sns\n",
    "\n",
    "fig = plt.figure()\n",
    "\n",
    "fig.set_size_inches(16, 10)\n",
    "\n",
    "sns.heatmap(df[numeric_columns].corr(),\n",
    "            xticklabels=numeric_columns,\n",
    "            yticklabels=numeric_columns,\n",
    "            cmap='BrBG',\n",
    "            vmin=-1,\n",
    "            vmax=1)\n",
    "\n",
    "plt.show()"
   ],
   "id": "842c1d21a27f9009",
   "outputs": [
    {
     "data": {
      "text/plain": [
       "<Figure size 1600x1000 with 2 Axes>"
      ],
      "image/png": "[encoded data removed]"
     },
     "metadata": {},
     "output_type": "display_data"
    }
   ],
   "execution_count": 85
  },
  {
   "metadata": {
    "ExecuteTime": {
     "end_time": "2025-09-12T16:02:57.297545Z",
     "start_time": "2025-09-12T16:02:57.294326Z"
    }
   },
   "cell_type": "code",
   "source": [
    "def get_redundant_pairs(data_frame: pd.DataFrame):\n",
    "    pairs_to_drop = set()\n",
    "    cols = data_frame.columns\n",
    "    for i in range(0, data_frame.shape[1]):\n",
    "        for j in range(0, i + 1):\n",
    "            pairs_to_drop.add((cols[i], cols[j]))\n",
    "    return pairs_to_drop\n",
    "\n",
    "\n",
    "def get_top_abs_correlations(data_frame: pd.DataFrame, n: int = 5):\n",
    "    au_corr = data_frame.corr().abs().unstack()\n",
    "    labels_to_drop = get_redundant_pairs(data_frame)\n",
    "    au_corr = au_corr.drop(labels=labels_to_drop).sort_values(ascending=False)\n",
    "    return au_corr[0:n]"
   ],
   "id": "9a05a78d78b09ee4",
   "outputs": [],
   "execution_count": 86
  },
  {
   "metadata": {
    "ExecuteTime": {
     "end_time": "2025-09-12T16:02:57.343541Z",
     "start_time": "2025-09-12T16:02:57.322877Z"
    }
   },
   "cell_type": "code",
   "source": [
    "print(\"Top Absolute Correlations\")\n",
    "print(get_top_abs_correlations(df[numeric_columns]))"
   ],
   "id": "c95005b94519d97e",
   "outputs": [
    {
     "name": "stdout",
     "output_type": "stream",
     "text": [
      "Top Absolute Correlations\n",
      "Var2              Var3                0.683437\n",
      "Trip_Distance     Life_Style_Index    0.468332\n",
      "Life_Style_Index  Var3                0.303324\n",
      "Customer_Rating   Var2                0.302968\n",
      "Trip_Distance     Var3                0.231706\n",
      "dtype: float64\n"
     ]
    }
   ],
   "execution_count": 87
  },
  {
   "cell_type": "markdown",
   "metadata": {},
   "source": [
    "### Training"
   ],
   "id": "5941cd0fb4b762d6"
  },
  {
   "cell_type": "code",
   "metadata": {
    "ExecuteTime": {
     "end_time": "2025-09-12T16:02:57.378311Z",
     "start_time": "2025-09-12T16:02:57.369311Z"
    }
   },
   "source": [
    "np.random.seed(2022)\n",
    "\n",
    "from sklearn.pipeline import Pipeline\n",
    "\n",
    "from sklearn.preprocessing import StandardScaler\n",
    "from sklearn.model_selection import train_test_split, GridSearchCV\n",
    "\n",
    "X = df.drop(columns=['Surge_Pricing_Type'])\n",
    "y = df['Surge_Pricing_Type']"
   ],
   "id": "3d5d9d13bd935110",
   "outputs": [],
   "execution_count": 88
  },
  {
   "cell_type": "code",
   "metadata": {
    "ExecuteTime": {
     "end_time": "2025-09-12T16:02:57.426036Z",
     "start_time": "2025-09-12T16:02:57.404438Z"
    }
   },
   "source": [
    "X_train, X_test, y_train, y_test = train_test_split(X, y,\n",
    "                                                    test_size=0.2,\n",
    "                                                    shuffle=True,\n",
    "                                                    random_state=2022)"
   ],
   "id": "c9e06b7fc2ee7104",
   "outputs": [],
   "execution_count": 89
  },
  {
   "cell_type": "markdown",
   "metadata": {},
   "source": [
    "**Задание 1.** Обучите One-vs-Rest Logreg. Не забудьте в шаг добавить стандартизацию данных (через `StandardScaler`) Посчитайте precision, recall, f1-score и усредните по всем классам с помощью micro, macro и weighted avg. Здесь и далее округляйте до 3 знака после запятой.\n",
    "\n",
    "Чтобы отдельно и долго не вычислять метрики, можно воспользоваться `classification_report` из `sklearn.metrics`!"
   ],
   "id": "bc6a8f0ee5fefff6"
  },
  {
   "cell_type": "code",
   "metadata": {
    "ExecuteTime": {
     "end_time": "2025-09-12T16:02:57.635261Z",
     "start_time": "2025-09-12T16:02:57.452496Z"
    }
   },
   "source": [
    "from sklearn.multiclass import OneVsRestClassifier\n",
    "from sklearn.linear_model import LogisticRegression\n",
    "from sklearn.metrics import classification_report\n",
    "\n",
    "### Your code is here\n",
    "pipe_one_all = Pipeline([(\"scaler\", StandardScaler()),\n",
    "                         (\"one_vs_all\", OneVsRestClassifier(LogisticRegression()))])\n",
    "\n",
    "pipe_one_all.fit(X_train, y_train)\n",
    "\n",
    "report = classification_report(y_true=y_test,\n",
    "                               y_pred=pipe_one_all.predict(X_test),\n",
    "                               digits=3,\n",
    "                               output_dict=False,\n",
    "                               )\n",
    "print(report)"
   ],
   "id": "f7adeed1f08d1d8e",
   "outputs": [
    {
     "name": "stdout",
     "output_type": "stream",
     "text": [
      "              precision    recall  f1-score   support\n",
      "\n",
      "           1      0.723     0.542     0.619      5372\n",
      "           2      0.636     0.834     0.722     11349\n",
      "           3      0.741     0.571     0.645      9612\n",
      "\n",
      "    accuracy                          0.679     26333\n",
      "   macro avg      0.700     0.649     0.662     26333\n",
      "weighted avg      0.692     0.679     0.673     26333\n",
      "\n"
     ]
    }
   ],
   "execution_count": 90
  },
  {
   "cell_type": "markdown",
   "metadata": {},
   "source": [
    "Подберите оптимальные гиперпараметры модели с помощью `GridSearchCV()` из предложенных. Для лучшего набора гиперпараметров посчитайте те же самые метрики. Валидировать параметры необходимо по `accuracy`. В этот раз проведем настояющую процедуру Кросс-Валидации! \n",
    "\n",
    "Для этого в метод `fit` передадим тренировочную часть наших данных, в параметр `cv` ничего не будем передавать (по дефолту 5-fold Кросс-Валидация будет проведена), а итоговые метрики замерим на тесте!"
   ],
   "id": "2c4fec79b05e021"
  },
  {
   "cell_type": "code",
   "metadata": {
    "ExecuteTime": {
     "end_time": "2025-09-12T16:02:57.664422Z",
     "start_time": "2025-09-12T16:02:57.662668Z"
    }
   },
   "source": [
    "param_grid = {'one_vs_all__estimator__penalty': ['l1', 'l2', 'elasticnet'],\n",
    "              'one_vs_all__estimator__C': [0.001, 0.01, 0.1, 1]}"
   ],
   "id": "1203d563255e8ef5",
   "outputs": [],
   "execution_count": 91
  },
  {
   "cell_type": "code",
   "metadata": {
    "ExecuteTime": {
     "end_time": "2025-09-12T16:03:01.345072Z",
     "start_time": "2025-09-12T16:02:57.689549Z"
    }
   },
   "source": [
    "### Your code is here\n",
    "from sklearn.model_selection import GridSearchCV\n",
    "\n",
    "search1 = GridSearchCV(estimator=pipe_one_all,\n",
    "                       param_grid=param_grid,\n",
    "                       scoring='accuracy')\n",
    "\n",
    "search1.fit(X=X_train, y=y_train)\n",
    "print(f\"Best parameters: {search1.best_params_}\")\n",
    "print(search1.best_params_)"
   ],
   "id": "3f2f17335fca8fe5",
   "outputs": [
    {
     "name": "stdout",
     "output_type": "stream",
     "text": [
      "Best parameters: {'one_vs_all__estimator__C': 0.001, 'one_vs_all__estimator__penalty': 'l2'}\n",
      "{'one_vs_all__estimator__C': 0.001, 'one_vs_all__estimator__penalty': 'l2'}\n"
     ]
    }
   ],
   "execution_count": 92
  },
  {
   "metadata": {
    "ExecuteTime": {
     "end_time": "2025-09-12T16:03:01.386363Z",
     "start_time": "2025-09-12T16:03:01.373416Z"
    }
   },
   "cell_type": "code",
   "source": [
    "best_model = search1.best_estimator_\n",
    "report = classification_report(y_true=y_test,\n",
    "                               y_pred=best_model.predict(X_test),\n",
    "                               digits=3,\n",
    "                               output_dict=False,\n",
    "                               )\n",
    "print(report)"
   ],
   "id": "b42ccce86ac4c354",
   "outputs": [
    {
     "name": "stdout",
     "output_type": "stream",
     "text": [
      "              precision    recall  f1-score   support\n",
      "\n",
      "           1      0.742     0.534     0.621      5372\n",
      "           2      0.635     0.839     0.723     11349\n",
      "           3      0.742     0.576     0.649      9612\n",
      "\n",
      "    accuracy                          0.681     26333\n",
      "   macro avg      0.706     0.650     0.664     26333\n",
      "weighted avg      0.696     0.681     0.675     26333\n",
      "\n"
     ]
    }
   ],
   "execution_count": 93
  },
  {
   "cell_type": "markdown",
   "metadata": {},
   "source": [
    "Изобразите три калибровочные кривые для Logistic Classifier: 0-vs-rest, 1-vs-rest, 2-vs-rest. Хорошо ли откалиброван обученный классификатор? \n",
    "\n",
    "Заметьте, что `predict_proba` возвращает список из вероятностей для всех наших классов!"
   ],
   "id": "3e6a8cdb366227ae"
  },
  {
   "cell_type": "code",
   "metadata": {
    "ExecuteTime": {
     "end_time": "2025-09-12T16:03:03.435758Z",
     "start_time": "2025-09-12T16:03:03.325834Z"
    }
   },
   "source": [
    "### Your code is here\n",
    "from sklearn.calibration import calibration_curve\n",
    "\n",
    "plt.figure(figsize=(8, 5))\n",
    "\n",
    "prob = best_model.predict_proba(X_test)\n",
    "num_classes = 3\n",
    "colors = ['blue', 'red', 'green', 'orange', 'purple']\n",
    "\n",
    "for i in range(num_classes):\n",
    "    y_true_binary = (y_test == i + 1).astype(int)\n",
    "    y_prob_binary = prob[:, i]\n",
    "    prob_true, prob_pred = calibration_curve(\n",
    "        y_true_binary,\n",
    "        y_prob_binary,\n",
    "        n_bins=10,\n",
    "    )\n",
    "    plt.plot(prob_pred,\n",
    "             prob_true,\n",
    "             's-',\n",
    "             label=f'Class {i + 1}',\n",
    "             color=colors[i % len(colors)],\n",
    "             linewidth=2,\n",
    "             markersize=8)\n",
    "\n",
    "plt.plot([0, 1], [0, 1], 'k--', label='Perfectly calibrated', linewidth=2)\n",
    "plt.xlabel('Mean predicted probability')\n",
    "plt.ylabel('Fraction of positives')\n",
    "plt.title('Calibration curves (One-vs-Rest)')\n",
    "plt.legend(loc='lower right')\n",
    "plt.grid(True, alpha=0.3)\n",
    "plt.axis('equal')\n",
    "plt.xlim([0, 1])\n",
    "plt.ylim([0, 1])\n",
    "plt.tight_layout()\n",
    "plt.show()"
   ],
   "id": "ed01e9eb1fcc2228",
   "outputs": [
    {
     "data": {
      "text/plain": [
       "<Figure size 800x500 with 1 Axes>"
      ],
      "image/png": "[encoded data removed]"
     },
     "metadata": {},
     "output_type": "display_data"
    }
   ],
   "execution_count": 94
  },
  {
   "cell_type": "markdown",
   "metadata": {},
   "source": [
    "**Задание 2.** Обучите логистическую регрессию с гиперпараметрами из первого задания на полиномиальных признаках до 4 степени. Сравните метрики с первым заданием.\n",
    "\n",
    "\n",
    "Пример: Пусть у нас был единственный признак \n",
    "\n",
    "$$\n",
    "d_j = [1, 2, 3, 4]\n",
    "$$\n",
    "\n",
    "Тогда полиномиальные признаки до 4 степени от такого будут иметь вид:\n",
    "\n",
    "$$\n",
    "d_j^1 = [1, 2, 3, 4]\n",
    "$$\n",
    "\n",
    "$$\n",
    "d_j^2 = [1, 4, 9, 16]\n",
    "$$\n",
    "\n",
    "$$\n",
    "d_j^3 = [1, 8, 27, 64]\n",
    "$$\n",
    "\n",
    "$$\n",
    "d_j^4 = [1, 16, 81, 256]\n",
    "$$\n",
    "\n",
    "P.S. Бинарные колонки нет смысла возводить в какие-то степени, поэтому возьмем исключительно вещественные из базовых. \n",
    "\n",
    "Для этого можно воспользоваться классическим циклом (или уроком из занятия про `Sberbank Housing Market`). Положите модифицированный датасет в переменную `X_polinomial`!\n",
    "\n",
    "P.S.S Зачастую еще, создаваю полиномиальные фичи, учитывают \"пересечения\" признаков, то есть, например, из векторов признаков $d_j, d_i$ генерируют не просто новые степени $d_j^2, d_i^2, d_j^3, d_i^3...$, а еще и признаки вида $d_j \\cdot d_i, d_j^2 \\cdot d_i, d_j \\cdot d_i^2...$, но здесь ограничьтесь просто степенями!"
   ],
   "id": "f0b0f91bacafca22"
  },
  {
   "metadata": {
    "ExecuteTime": {
     "end_time": "2025-09-12T16:21:31.542726Z",
     "start_time": "2025-09-12T16:21:31.538817Z"
    }
   },
   "cell_type": "code",
   "source": "numeric_columns",
   "id": "1947d7c88c062c2b",
   "outputs": [
    {
     "data": {
      "text/plain": [
       "Index(['Trip_Distance', 'Customer_Since_Months', 'Life_Style_Index',\n",
       "       'Customer_Rating', 'Cancellation_Last_1Month', 'Var1', 'Var2', 'Var3',\n",
       "       'Surge_Pricing_Type'],\n",
       "      dtype='object')"
      ]
     },
     "execution_count": 96,
     "metadata": {},
     "output_type": "execute_result"
    }
   ],
   "execution_count": 96
  },
  {
   "cell_type": "code",
   "metadata": {
    "ExecuteTime": {
     "end_time": "2025-09-12T16:25:15.192598Z",
     "start_time": "2025-09-12T16:25:15.147037Z"
    }
   },
   "source": [
    "### Создание полиномиальных признаков\n",
    "\n",
    "X_polinomial = X.copy()\n",
    "for col in numeric_columns.drop('Surge_Pricing_Type'):\n",
    "    for i in range(3):\n",
    "        X_polinomial[f\"{col}_{i + 2}\"] = X_polinomial[col] ** (i + 2)\n",
    "\n",
    "### Your code is here"
   ],
   "id": "2549c4e39fff77ef",
   "outputs": [],
   "execution_count": 98
  },
  {
   "cell_type": "code",
   "metadata": {
    "ExecuteTime": {
     "end_time": "2025-09-12T16:32:33.855678Z",
     "start_time": "2025-09-12T16:32:33.790558Z"
    }
   },
   "source": [
    "X_pol_train, X_pol_test, y_train, y_test = train_test_split(X_polinomial, y,\n",
    "                                                            test_size=0.2,\n",
    "                                                            shuffle=True,\n",
    "                                                            random_state=2022)"
   ],
   "id": "59d1c4919102b4e3",
   "outputs": [],
   "execution_count": 103
  },
  {
   "cell_type": "code",
   "metadata": {
    "ExecuteTime": {
     "end_time": "2025-09-12T16:32:51.511723Z",
     "start_time": "2025-09-12T16:32:34.985555Z"
    }
   },
   "source": [
    "### Your code is here\n",
    "search2 = GridSearchCV(estimator=pipe_one_all,\n",
    "                       param_grid=param_grid,\n",
    "                       scoring='accuracy')\n",
    "\n",
    "search2.fit(X=X_pol_train, y=y_train)\n",
    "print(classification_report(y_true=y_test,\n",
    "                            y_pred=search2.predict(X_pol_test),\n",
    "                            digits=3,\n",
    "                            output_dict=False,\n",
    "                            ))"
   ],
   "id": "59c33c4b4e600cc4",
   "outputs": [
    {
     "name": "stdout",
     "output_type": "stream",
     "text": [
      "              precision    recall  f1-score   support\n",
      "\n",
      "           1      0.748     0.532     0.622      5372\n",
      "           2      0.636     0.837     0.723     11349\n",
      "           3      0.741     0.584     0.653      9612\n",
      "\n",
      "    accuracy                          0.682     26333\n",
      "   macro avg      0.708     0.651     0.666     26333\n",
      "weighted avg      0.697     0.682     0.677     26333\n",
      "\n"
     ]
    }
   ],
   "execution_count": 104
  },
  {
   "cell_type": "markdown",
   "metadata": {},
   "source": [
    "По аналогии с первым заданием изобразите три калибровочные кривые. Стало ли лучше?"
   ],
   "id": "2a52638e6c349e7"
  },
  {
   "cell_type": "code",
   "metadata": {
    "ExecuteTime": {
     "end_time": "2025-09-12T16:34:51.428205Z",
     "start_time": "2025-09-12T16:34:51.316493Z"
    }
   },
   "source": [
    "### Your code is here\n",
    "plt.figure(figsize=(8, 5))\n",
    "\n",
    "prob = search2.predict_proba(X_pol_test)\n",
    "num_classes = 3\n",
    "colors = ['blue', 'red', 'green', 'orange', 'purple']\n",
    "for i in range(num_classes):\n",
    "    y_true_binary = (y_test == i + 1).astype(int)\n",
    "    y_prob_binary = prob[:, i]\n",
    "    prob_true, prob_pred = calibration_curve(\n",
    "        y_true_binary,\n",
    "        y_prob_binary,\n",
    "        n_bins=10,\n",
    "    )\n",
    "    plt.plot(prob_pred,\n",
    "             prob_true,\n",
    "             's-',\n",
    "             label=f'Class {i + 1}',\n",
    "             color=colors[i % len(colors)],\n",
    "             linewidth=2,\n",
    "             markersize=8)\n",
    "\n",
    "plt.plot([0, 1], [0, 1], 'k--', label='Perfectly calibrated', linewidth=2)\n",
    "plt.xlabel('Mean predicted probability')\n",
    "plt.ylabel('Fraction of positives')\n",
    "plt.title('Calibration curves (One-vs-Rest)')\n",
    "plt.legend(loc='lower right')\n",
    "plt.grid(True, alpha=0.3)\n",
    "plt.axis('equal')\n",
    "plt.xlim([0, 1])\n",
    "plt.ylim([0, 1])\n",
    "plt.tight_layout()\n",
    "plt.show()\n"
   ],
   "id": "87d817e487c88abd",
   "outputs": [
    {
     "data": {
      "text/plain": [
       "<Figure size 800x500 with 1 Axes>"
      ],
      "image/png": "[encoded data removed]"
     },
     "metadata": {},
     "output_type": "display_data"
    }
   ],
   "execution_count": 105
  },
  {
   "metadata": {
    "ExecuteTime": {
     "end_time": "2025-09-12T16:44:04.612257Z",
     "start_time": "2025-09-12T16:44:04.605016Z"
    }
   },
   "cell_type": "code",
   "source": "X_polinomial.shape",
   "id": "18d1f8a5f05c809d",
   "outputs": [
    {
     "data": {
      "text/plain": [
       "(131662, 52)"
      ]
     },
     "execution_count": 106,
     "metadata": {},
     "output_type": "execute_result"
    }
   ],
   "execution_count": 106
  },
  {
   "cell_type": "markdown",
   "metadata": {},
   "source": [
    "**Задание 3.** Обучите на датасете без полиномиальных признаков One-vs-One `SGDClassifier` из `sklearn.linear_model`, который использует стохастический градиентный спуск (узнаете о нем позже) и может обучать как `SVM`, так и, например, `LogReg`, если указать в качестве параметра `loss` либо `hinge`, либо `log` соответственно!\n",
    "\n",
    "Посчитайте precision, recall, f1-score и усредните по всем классам с помощью micro, macro и weighted avg."
   ],
   "id": "a533d300f407058c"
  },
  {
   "cell_type": "code",
   "metadata": {
    "ExecuteTime": {
     "end_time": "2025-09-12T18:30:31.880179Z",
     "start_time": "2025-09-12T18:30:31.830645Z"
    }
   },
   "source": [
    "X_train, X_test, y_train, y_test = train_test_split(X, y,\n",
    "                                                    test_size=0.2,\n",
    "                                                    shuffle=True,\n",
    "                                                    random_state=2022)"
   ],
   "id": "ed29e2554e255a0c",
   "outputs": [],
   "execution_count": 107
  },
  {
   "cell_type": "code",
   "metadata": {},
   "source": [
    "from sklearn.linear_model import SGDClassifier\n",
    "from sklearn.multiclass import OneVsOneClassifier\n",
    "\n",
    "### Your code is here\n",
    "pipe_all_all = Pipeline([(\"scaler\", StandardScaler()),\n",
    "                         (\"all_vs_all\", OneVsOneClassifier(SGDClassifier()))])\n",
    "pipe_all_all.fit(X_train, y_train)"
   ],
   "id": "9ff13f3ffd7185b7",
   "outputs": [],
   "execution_count": null
  },
  {
   "cell_type": "markdown",
   "metadata": {},
   "source": [
    "Подберите оптимальные гиперпараметры модели с помощью `GridSearchCV()`. При этом переберите всевозможные функции потерь. Таким образом, при `loss = 'hinge'`, мы обучим SVM, при `loss = 'log'` мы обучим логистическую регрессию и т.д.\n",
    "\n",
    "Используйте прием с Кросс-Валидацией при подборе параметров, как ранее, а также замерьте метрики на тесте."
   ],
   "id": "a2fed2bcd8aec0e8"
  },
  {
   "cell_type": "code",
   "metadata": {
    "ExecuteTime": {
     "end_time": "2025-09-12T18:35:29.545208Z",
     "start_time": "2025-09-12T18:35:29.541655Z"
    }
   },
   "source": [
    "param_grid = {'all_vs_all__estimator__loss': ['hinge', 'log', 'modified_huber'],\n",
    "              'all_vs_all__estimator__penalty': ['l1', 'l2'],\n",
    "              'all_vs_all__estimator__alpha': [0.001, 0.01, 0.1]}"
   ],
   "id": "6fc898e67530bb29",
   "outputs": [],
   "execution_count": 116
  },
  {
   "cell_type": "code",
   "metadata": {
    "ExecuteTime": {
     "end_time": "2025-09-12T18:39:22.943137Z",
     "start_time": "2025-09-12T18:38:44.801088Z"
    }
   },
   "source": [
    "### Your code is here\n",
    "search3 = GridSearchCV(estimator=pipe_all_all,\n",
    "                       param_grid=param_grid,\n",
    "                       scoring='accuracy')\n",
    "search3.fit(X=X_train, y=y_train)\n",
    "print(f\"Best parameter {search3.best_params_}\")\n",
    "print(classification_report(y_true=y_test,\n",
    "                            y_pred=search3.predict(X_test),\n",
    "                            digits=3,\n",
    "                            output_dict=False,\n",
    "                            ))"
   ],
   "id": "8176c640439faca9",
   "outputs": [
    {
     "name": "stdout",
     "output_type": "stream",
     "text": [
      "Best parameter {'all_vs_all__estimator__alpha': 0.1, 'all_vs_all__estimator__loss': 'modified_huber', 'all_vs_all__estimator__penalty': 'l2'}\n",
      "              precision    recall  f1-score   support\n",
      "\n",
      "           1      0.748     0.529     0.620      5372\n",
      "           2      0.632     0.845     0.724     11349\n",
      "           3      0.745     0.570     0.646      9612\n",
      "\n",
      "    accuracy                          0.681     26333\n",
      "   macro avg      0.708     0.648     0.663     26333\n",
      "weighted avg      0.697     0.681     0.674     26333\n",
      "\n"
     ]
    }
   ],
   "execution_count": 120
  },
  {
   "cell_type": "markdown",
   "metadata": {},
   "source": [
    "Можно ли однозначно сказать, какой подход оказался лучше: One-vs-Rest или One-vs-One?"
   ],
   "id": "40b414776933064d"
  }
 ],
 "metadata": {
  "kernelspec": {
   "display_name": "Python 3",
   "language": "python",
   "name": "python3"
  },
  "language_info": {
   "codemirror_mode": {
    "name": "ipython",
    "version": 3
   },
   "file_extension": ".py",
   "mimetype": "text/x-python",
   "name": "python",
   "nbconvert_exporter": "python",
   "pygments_lexer": "ipython3",
   "version": "3.7.3"
  }
 },
 "nbformat": 4,
 "nbformat_minor": 5
}
